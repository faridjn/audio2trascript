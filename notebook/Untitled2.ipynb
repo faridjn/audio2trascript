{
 "cells": [
  {
   "cell_type": "code",
   "execution_count": 3,
   "id": "6789437e",
   "metadata": {},
   "outputs": [
    {
     "name": "stdout",
     "output_type": "stream",
     "text": [
      "Requirement already satisfied: pydub in c:\\users\\jfar\\anaconda3\\lib\\site-packages (0.25.1)\n",
      "Requirement already satisfied: ffmpeg in c:\\users\\jfar\\anaconda3\\lib\\site-packages (1.4)\n"
     ]
    }
   ],
   "source": [
    "!pip install pydub\n",
    "!pip install ffmpeg"
   ]
  },
  {
   "cell_type": "code",
   "execution_count": 4,
   "id": "d5f410ef",
   "metadata": {},
   "outputs": [],
   "source": [
    "from pydub import AudioSegment\n",
    "\n",
    "def convert_m4a_to_wav(m4a_file, wav_file):\n",
    "    # Load m4a audio file using pydub\n",
    "    sound = AudioSegment.from_file(m4a_file, format=\"m4a\")\n",
    "\n",
    "    # Export audio file as wav format\n",
    "    sound.export(wav_file, format=\"wav\")"
   ]
  },
  {
   "cell_type": "code",
   "execution_count": null,
   "id": "f1f6ec68",
   "metadata": {},
   "outputs": [],
   "source": [
    "convert_m4a_to_wav(\"path/to/input/file.m4a\", \"path/to/output/file.wav\")\n"
   ]
  }
 ],
 "metadata": {
  "kernelspec": {
   "display_name": "Python 3 (ipykernel)",
   "language": "python",
   "name": "python3"
  },
  "language_info": {
   "codemirror_mode": {
    "name": "ipython",
    "version": 3
   },
   "file_extension": ".py",
   "mimetype": "text/x-python",
   "name": "python",
   "nbconvert_exporter": "python",
   "pygments_lexer": "ipython3",
   "version": "3.9.12"
  }
 },
 "nbformat": 4,
 "nbformat_minor": 5
}
