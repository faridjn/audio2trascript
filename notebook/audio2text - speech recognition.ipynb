{
 "cells": [
  {
   "cell_type": "markdown",
   "id": "5a9d2f34",
   "metadata": {},
   "source": [
    "## Install Libraries"
   ]
  },
  {
   "cell_type": "code",
   "execution_count": null,
   "id": "65e8c810",
   "metadata": {},
   "outputs": [],
   "source": [
    "#!pip install SpeechRecognition\n",
    "#!pip install pydub\n",
    "#!pip install ffmpeg"
   ]
  },
  {
   "cell_type": "markdown",
   "id": "d6abd7ba",
   "metadata": {},
   "source": [
    "## Read libraries"
   ]
  },
  {
   "cell_type": "code",
   "execution_count": null,
   "id": "24e12209",
   "metadata": {},
   "outputs": [],
   "source": [
    "# importing libraries \n",
    "import os\n",
    "import speech_recognition as sr\n",
    "from pydub import AudioSegment\n",
    "from pydub.silence import split_on_silence"
   ]
  },
  {
   "cell_type": "markdown",
   "id": "a9bd8f26",
   "metadata": {},
   "source": [
    "## Functions"
   ]
  },
  {
   "cell_type": "code",
   "execution_count": null,
   "id": "5414111b",
   "metadata": {},
   "outputs": [],
   "source": [
    "def split_audio_chunks(sound):\n",
    "    \"\"\"\n",
    "    Split the audio file into chunks based on silence.\n",
    "    \"\"\"\n",
    "    chunks = split_on_silence(sound,\n",
    "        min_silence_len=500,\n",
    "        silence_thresh=sound.dBFS-14,\n",
    "        keep_silence=500,\n",
    "    )\n",
    "    return chunks\n",
    "\n",
    "def recognize_audio_chunks(chunks, recognizer, output_file):\n",
    "    \"\"\"\n",
    "    Recognize text from audio chunks and write to the output file while displaying it in the console.\n",
    "    \"\"\"\n",
    "    for i, audio_chunk in enumerate(chunks, start=1):\n",
    "        audio_chunk.export(os.path.join(AUDIO_FILE_PATH, \"temp.wav\"), format=\"wav\")\n",
    "        audio_listened = sr.AudioFile(os.path.join(AUDIO_FILE_PATH, \"temp.wav\"))\n",
    "        \n",
    "        with audio_listened as source:\n",
    "            try:\n",
    "                text = recognizer.record(source)\n",
    "                text = recognizer.recognize_google(text)\n",
    "            except sr.UnknownValueError as e:\n",
    "                print(\"Error:\", str(e))\n",
    "                text = \"\"\n",
    "            else:\n",
    "                text = f\"{text.capitalize()}. \"\n",
    "                print(f\"Chunk {i}: {text}\")\n",
    "                output_file.write(text + '\\n')\n",
    "        \n",
    "        os.remove(os.path.join(AUDIO_FILE_PATH, \"temp.wav\"))\n",
    "\n",
    "def get_large_audio_transcription(audio_file, show_transcript=True):\n",
    "    \"\"\"\n",
    "    Split the large audio file into chunks, apply speech recognition, and optionally display/export the transcript.\n",
    "    \"\"\"\n",
    "    r = sr.Recognizer()\n",
    "    \n",
    "    sound = AudioSegment.from_wav(audio_file)\n",
    "    chunks = split_audio_chunks(sound)\n",
    "    \n",
    "    if not os.path.isdir(AUDIO_FILE_PATH):\n",
    "        os.mkdir(AUDIO_FILE_PATH)\n",
    "\n",
    "    with open(output_file_path, \"w\") as output_file:\n",
    "        recognize_audio_chunks(chunks, r, output_file)\n",
    "    \n",
    "    if show_transcript:\n",
    "        with open(output_file_path, \"r\") as output_file:\n",
    "            transcript = output_file.read()\n",
    "            print(transcript)\n",
    "    \n",
    "    return transcript"
   ]
  },
  {
   "cell_type": "markdown",
   "id": "03e3f546",
   "metadata": {},
   "source": [
    "## Files"
   ]
  },
  {
   "cell_type": "code",
   "execution_count": null,
   "id": "c6d5236d",
   "metadata": {},
   "outputs": [],
   "source": [
    "# File & folders\n",
    "AUDIO_FILE_PATH = \"C:\\\\Farid\\\\gitProjects\\\\Speech to Text\\\\audio2trascript\\\\data\\\\\"\n",
    "AUDIO_FILE_NAME = \"my_audio.wav\""
   ]
  },
  {
   "cell_type": "markdown",
   "id": "f5442c47",
   "metadata": {},
   "source": [
    "## Process"
   ]
  },
  {
   "cell_type": "code",
   "execution_count": null,
   "id": "024cac3b",
   "metadata": {
    "scrolled": false
   },
   "outputs": [],
   "source": [
    "# Set input audio file name\n",
    "audio_file = os.path.join(AUDIO_FILE_PATH, AUDIO_FILE_NAME)\n",
    "\n",
    "# Set output text file name\n",
    "output_file_path = os.path.splitext(audio_file)[0] + \".txt\"\n",
    "\n",
    "# Run\n",
    "transcript = get_large_audio_transcription(audio_file, show_transcript=True)"
   ]
  },
  {
   "cell_type": "code",
   "execution_count": null,
   "id": "d5920c9b",
   "metadata": {},
   "outputs": [],
   "source": []
  }
 ],
 "metadata": {
  "kernelspec": {
   "display_name": "Python 3 (ipykernel)",
   "language": "python",
   "name": "python3"
  },
  "language_info": {
   "codemirror_mode": {
    "name": "ipython",
    "version": 3
   },
   "file_extension": ".py",
   "mimetype": "text/x-python",
   "name": "python",
   "nbconvert_exporter": "python",
   "pygments_lexer": "ipython3",
   "version": "3.11.3"
  }
 },
 "nbformat": 4,
 "nbformat_minor": 5
}
